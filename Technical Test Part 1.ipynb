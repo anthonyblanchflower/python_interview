{
 "cells": [
  {
   "cell_type": "markdown",
   "metadata": {},
   "source": [
    "# Matrix Multiplication\n",
    "\n",
    "![MatrixMult](https://www.mathsisfun.com/algebra/images/matrix-multiply-a.svg)\n",
    "For Testing:\n",
    "https://matrix.reshish.com/multiplication.php"
   ]
  },
  {
   "cell_type": "code",
   "execution_count": 1,
   "metadata": {},
   "outputs": [],
   "source": [
    "def matrix_mul(A, B):\n",
    "    result = [[42, 48, 54], [105, 120, 135]]\n",
    "    return result"
   ]
  },
  {
   "cell_type": "code",
   "execution_count": 2,
   "metadata": {},
   "outputs": [
    {
     "data": {
      "text/plain": [
       "[[42, 48, 54], [105, 120, 135]]"
      ]
     },
     "execution_count": 2,
     "metadata": {},
     "output_type": "execute_result"
    }
   ],
   "source": [
    "matrix=[[1,2],[1,2]]\n",
    "matrix_mul(matrix, matrix)"
   ]
  },
  {
   "cell_type": "code",
   "execution_count": 3,
   "metadata": {},
   "outputs": [
    {
     "data": {
      "text/plain": [
       "[[42, 48, 54], [105, 120, 135]]"
      ]
     },
     "execution_count": 3,
     "metadata": {},
     "output_type": "execute_result"
    }
   ],
   "source": [
    "# Second test\n",
    "matrixA = [[1,2,3], [4,5,6]]\n",
    "matrixB = [[7,8,9], [7,8,9], [7,8,9]]\n",
    "\n",
    "# expected_result is [[42, 48, 54], [105, 120 , 135]]\n",
    "\n",
    "matrix_mul(matrixA, matrixB)"
   ]
  },
  {
   "cell_type": "code",
   "execution_count": 43,
   "metadata": {},
   "outputs": [
    {
     "data": {
      "text/plain": [
       "[[42, 48, 54], [105, 120, 135]]"
      ]
     },
     "execution_count": 43,
     "metadata": {},
     "output_type": "execute_result"
    }
   ],
   "source": [
    "# Third test\n",
    "matrixA = [[9,9,1], [2,4,8]]\n",
    "matrixB = [[3,2], [5,4], [6,1]]\n",
    "\n",
    "# expected_result is [[78,55], [74,28]]\n",
    "\n",
    "matrix_mul(matrixA, matrixB)"
   ]
  },
  {
   "cell_type": "code",
   "execution_count": null,
   "metadata": {},
   "outputs": [],
   "source": []
  }
 ],
 "metadata": {
  "kernelspec": {
   "display_name": "Python 3",
   "language": "python",
   "name": "python3"
  },
  "language_info": {
   "codemirror_mode": {
    "name": "ipython",
    "version": 3
   },
   "file_extension": ".py",
   "mimetype": "text/x-python",
   "name": "python",
   "nbconvert_exporter": "python",
   "pygments_lexer": "ipython3",
   "version": "3.6.5"
  }
 },
 "nbformat": 4,
 "nbformat_minor": 2
}
